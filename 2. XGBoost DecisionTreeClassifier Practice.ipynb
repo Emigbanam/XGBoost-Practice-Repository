{
 "cells": [
  {
   "metadata": {},
   "cell_type": "markdown",
   "source": [
    "## XGBoost Decision Tree Classifier\n",
    "\n",
    "XGBoost (Extreme Gradient Boosting) is a powerful machine learning algorithm based on the gradient boosting framework. It is widely used for classification tasks due to its speed, accuracy, and ability to handle large datasets efficiently.\n",
    "\n",
    "### What is a Decision Tree Classifier?\n",
    "A decision tree classifier predicts target labels by learning simple decision rules from features in the data. Each node splits the data based on a condition, and the process continues until the model forms a tree structure that maps inputs to outputs.\n",
    "\n",
    "### How XGBoost Improves Decision Trees\n",
    "- Uses **gradient boosting**, which builds trees sequentially, each one correcting errors from the previous.\n",
    "- Incorporates **regularization** (L1 and L2) to reduce overfitting.\n",
    "- Handles missing values internally.\n",
    "- Supports parallel processing for faster training.\n",
    "\n",
    "### Key Features\n",
    "- Suitable for both **binary and multi-class classification**.\n",
    "- Can handle **numeric and categorical features** (with proper encoding).\n",
    "- Includes hyperparameters for fine-tuning (e.g., `learning_rate`, `max_depth`, `n_estimators`).\n",
    "\n",
    "### Typical Use Case\n",
    "- Prepare your dataset (features `X` and target `y`).\n",
    "- Create an `XGBClassifier()` model.\n",
    "- Train it with `.fit(X_train, y_train)`.\n",
    "- Make predictions using `.predict(X_test)`.\n",
    "\n",
    "XGBoost is often the go-to choice for Kaggle competitions, business analytics, and real-world problems requiring high predictive performance.\n"
   ],
   "id": "36f0509eb4b5074a"
  },
  {
   "metadata": {},
   "cell_type": "markdown",
   "source": [
    "Building a Decision Tree Classifier\n",
    "\n",
    "Split the dataset into training and testing sets using `X` (features) and `y` (labels).\n",
    "Define a `DecisionTreeClassifier` and set the `max_depth` parameter to control the maximum depth of the tree.\n",
    "Fit the classifier on the training data (`X_train`, `y_train`).\n",
    "The dataset contains numeric measurements of tumors with labels indicating whether each tumor is malignant or benign.\n",
    "This model will classify tumors based on their features.\n"
   ],
   "id": "9089925118c6cf5d"
  },
  {
   "cell_type": "code",
   "id": "initial_id",
   "metadata": {
    "collapsed": true,
    "ExecuteTime": {
     "end_time": "2025-09-04T21:22:43.051175Z",
     "start_time": "2025-09-04T21:22:20.938715Z"
    }
   },
   "source": [
    "import numpy as np\n",
    "import pandas as pd\n",
    "import xgboost as xgb\n",
    "from sklearn.tree import DecisionTreeClassifier"
   ],
   "outputs": [],
   "execution_count": 2
  },
  {
   "metadata": {
    "ExecuteTime": {
     "end_time": "2025-09-04T21:23:35.344208Z",
     "start_time": "2025-09-04T21:23:35.222739Z"
    }
   },
   "cell_type": "code",
   "source": [
    "churn = pd.read_csv(\"C:/Users/Emigb/Documents/Data Science/datasets/telecom_churn_clean.csv\")\n",
    "churn.head()"
   ],
   "id": "1e438d446db0ebf3",
   "outputs": [
    {
     "data": {
      "text/plain": [
       "   Unnamed: 0  account_length  area_code  international_plan  voice_mail_plan  \\\n",
       "0           0             128        415                   0                1   \n",
       "1           1             107        415                   0                1   \n",
       "2           2             137        415                   0                0   \n",
       "3           3              84        408                   1                0   \n",
       "4           4              75        415                   1                0   \n",
       "\n",
       "   number_vmail_messages  total_day_minutes  total_day_calls  \\\n",
       "0                     25              265.1              110   \n",
       "1                     26              161.6              123   \n",
       "2                      0              243.4              114   \n",
       "3                      0              299.4               71   \n",
       "4                      0              166.7              113   \n",
       "\n",
       "   total_day_charge  total_eve_minutes  total_eve_calls  total_eve_charge  \\\n",
       "0             45.07              197.4               99             16.78   \n",
       "1             27.47              195.5              103             16.62   \n",
       "2             41.38              121.2              110             10.30   \n",
       "3             50.90               61.9               88              5.26   \n",
       "4             28.34              148.3              122             12.61   \n",
       "\n",
       "   total_night_minutes  total_night_calls  total_night_charge  \\\n",
       "0                244.7                 91               11.01   \n",
       "1                254.4                103               11.45   \n",
       "2                162.6                104                7.32   \n",
       "3                196.9                 89                8.86   \n",
       "4                186.9                121                8.41   \n",
       "\n",
       "   total_intl_minutes  total_intl_calls  total_intl_charge  \\\n",
       "0                10.0                 3               2.70   \n",
       "1                13.7                 3               3.70   \n",
       "2                12.2                 5               3.29   \n",
       "3                 6.6                 7               1.78   \n",
       "4                10.1                 3               2.73   \n",
       "\n",
       "   customer_service_calls  churn  \n",
       "0                       1      0  \n",
       "1                       1      0  \n",
       "2                       0      0  \n",
       "3                       2      0  \n",
       "4                       3      0  "
      ],
      "text/html": [
       "<div>\n",
       "<style scoped>\n",
       "    .dataframe tbody tr th:only-of-type {\n",
       "        vertical-align: middle;\n",
       "    }\n",
       "\n",
       "    .dataframe tbody tr th {\n",
       "        vertical-align: top;\n",
       "    }\n",
       "\n",
       "    .dataframe thead th {\n",
       "        text-align: right;\n",
       "    }\n",
       "</style>\n",
       "<table border=\"1\" class=\"dataframe\">\n",
       "  <thead>\n",
       "    <tr style=\"text-align: right;\">\n",
       "      <th></th>\n",
       "      <th>Unnamed: 0</th>\n",
       "      <th>account_length</th>\n",
       "      <th>area_code</th>\n",
       "      <th>international_plan</th>\n",
       "      <th>voice_mail_plan</th>\n",
       "      <th>number_vmail_messages</th>\n",
       "      <th>total_day_minutes</th>\n",
       "      <th>total_day_calls</th>\n",
       "      <th>total_day_charge</th>\n",
       "      <th>total_eve_minutes</th>\n",
       "      <th>total_eve_calls</th>\n",
       "      <th>total_eve_charge</th>\n",
       "      <th>total_night_minutes</th>\n",
       "      <th>total_night_calls</th>\n",
       "      <th>total_night_charge</th>\n",
       "      <th>total_intl_minutes</th>\n",
       "      <th>total_intl_calls</th>\n",
       "      <th>total_intl_charge</th>\n",
       "      <th>customer_service_calls</th>\n",
       "      <th>churn</th>\n",
       "    </tr>\n",
       "  </thead>\n",
       "  <tbody>\n",
       "    <tr>\n",
       "      <th>0</th>\n",
       "      <td>0</td>\n",
       "      <td>128</td>\n",
       "      <td>415</td>\n",
       "      <td>0</td>\n",
       "      <td>1</td>\n",
       "      <td>25</td>\n",
       "      <td>265.1</td>\n",
       "      <td>110</td>\n",
       "      <td>45.07</td>\n",
       "      <td>197.4</td>\n",
       "      <td>99</td>\n",
       "      <td>16.78</td>\n",
       "      <td>244.7</td>\n",
       "      <td>91</td>\n",
       "      <td>11.01</td>\n",
       "      <td>10.0</td>\n",
       "      <td>3</td>\n",
       "      <td>2.70</td>\n",
       "      <td>1</td>\n",
       "      <td>0</td>\n",
       "    </tr>\n",
       "    <tr>\n",
       "      <th>1</th>\n",
       "      <td>1</td>\n",
       "      <td>107</td>\n",
       "      <td>415</td>\n",
       "      <td>0</td>\n",
       "      <td>1</td>\n",
       "      <td>26</td>\n",
       "      <td>161.6</td>\n",
       "      <td>123</td>\n",
       "      <td>27.47</td>\n",
       "      <td>195.5</td>\n",
       "      <td>103</td>\n",
       "      <td>16.62</td>\n",
       "      <td>254.4</td>\n",
       "      <td>103</td>\n",
       "      <td>11.45</td>\n",
       "      <td>13.7</td>\n",
       "      <td>3</td>\n",
       "      <td>3.70</td>\n",
       "      <td>1</td>\n",
       "      <td>0</td>\n",
       "    </tr>\n",
       "    <tr>\n",
       "      <th>2</th>\n",
       "      <td>2</td>\n",
       "      <td>137</td>\n",
       "      <td>415</td>\n",
       "      <td>0</td>\n",
       "      <td>0</td>\n",
       "      <td>0</td>\n",
       "      <td>243.4</td>\n",
       "      <td>114</td>\n",
       "      <td>41.38</td>\n",
       "      <td>121.2</td>\n",
       "      <td>110</td>\n",
       "      <td>10.30</td>\n",
       "      <td>162.6</td>\n",
       "      <td>104</td>\n",
       "      <td>7.32</td>\n",
       "      <td>12.2</td>\n",
       "      <td>5</td>\n",
       "      <td>3.29</td>\n",
       "      <td>0</td>\n",
       "      <td>0</td>\n",
       "    </tr>\n",
       "    <tr>\n",
       "      <th>3</th>\n",
       "      <td>3</td>\n",
       "      <td>84</td>\n",
       "      <td>408</td>\n",
       "      <td>1</td>\n",
       "      <td>0</td>\n",
       "      <td>0</td>\n",
       "      <td>299.4</td>\n",
       "      <td>71</td>\n",
       "      <td>50.90</td>\n",
       "      <td>61.9</td>\n",
       "      <td>88</td>\n",
       "      <td>5.26</td>\n",
       "      <td>196.9</td>\n",
       "      <td>89</td>\n",
       "      <td>8.86</td>\n",
       "      <td>6.6</td>\n",
       "      <td>7</td>\n",
       "      <td>1.78</td>\n",
       "      <td>2</td>\n",
       "      <td>0</td>\n",
       "    </tr>\n",
       "    <tr>\n",
       "      <th>4</th>\n",
       "      <td>4</td>\n",
       "      <td>75</td>\n",
       "      <td>415</td>\n",
       "      <td>1</td>\n",
       "      <td>0</td>\n",
       "      <td>0</td>\n",
       "      <td>166.7</td>\n",
       "      <td>113</td>\n",
       "      <td>28.34</td>\n",
       "      <td>148.3</td>\n",
       "      <td>122</td>\n",
       "      <td>12.61</td>\n",
       "      <td>186.9</td>\n",
       "      <td>121</td>\n",
       "      <td>8.41</td>\n",
       "      <td>10.1</td>\n",
       "      <td>3</td>\n",
       "      <td>2.73</td>\n",
       "      <td>3</td>\n",
       "      <td>0</td>\n",
       "    </tr>\n",
       "  </tbody>\n",
       "</table>\n",
       "</div>"
      ]
     },
     "execution_count": 3,
     "metadata": {},
     "output_type": "execute_result"
    }
   ],
   "execution_count": 3
  },
  {
   "metadata": {
    "ExecuteTime": {
     "end_time": "2025-09-04T21:24:41.169048Z",
     "start_time": "2025-09-04T21:24:41.151328Z"
    }
   },
   "cell_type": "code",
   "source": [
    "X = churn.iloc[:,:-1]\n",
    "y= churn['churn']"
   ],
   "id": "d86a17257e5655da",
   "outputs": [],
   "execution_count": 4
  },
  {
   "metadata": {
    "ExecuteTime": {
     "end_time": "2025-09-04T21:39:00.116074Z",
     "start_time": "2025-09-04T21:39:00.032496Z"
    }
   },
   "cell_type": "code",
   "source": [
    "#1. Import: train_test_split from sklearn.model_selection.\n",
    "from sklearn.model_selection import train_test_split\n",
    "\n",
    "#2. Create training and test sets such that 20% of the data is used for testing. Use a random_state of 123.\n",
    "X_train, X_test, y_train, y_test = train_test_split(X,y, test_size=0.2, random_state=123)\n",
    "\n",
    "#3. Instantiate a DecisionTreeClassifier called dt_clf_4 with a max_depth of 4. This parameter specifies the maximum number of successive split points you can have before reaching a leaf node.\n",
    "dt_clf_4 = DecisionTreeClassifier(max_depth=4, random_state=123)\n",
    "\n",
    "#4. Fit the classifier to the training set and predict the labels of the test set.\n",
    "dt_clf_4.fit(X_train, y_train)\n",
    "\n",
    "#5. Predict the labels of the test set: preds\n",
    "preds = dt_clf_4.predict(X_test)\n",
    "\n",
    "#6. Compute the accuracy of the predictions: accuracy\n",
    "accuracy = float(np.sum(preds==y_test))/y_test.shape[0]\n"
   ],
   "id": "1c8e40f95a374e2",
   "outputs": [],
   "execution_count": 8
  },
  {
   "metadata": {
    "ExecuteTime": {
     "end_time": "2025-09-04T21:39:20.791226Z",
     "start_time": "2025-09-04T21:39:20.760222Z"
    }
   },
   "cell_type": "code",
   "source": "print('accuracy:', accuracy)",
   "id": "b035abe1b412af74",
   "outputs": [
    {
     "name": "stdout",
     "output_type": "stream",
     "text": [
      "accuracy: 0.9070464767616192\n"
     ]
    }
   ],
   "execution_count": 9
  },
  {
   "metadata": {},
   "cell_type": "markdown",
   "source": [
    "Measuring Accuracy with XGBoost Cross-Validation**\n",
    "\n",
    "Convert the input data into an XGBoost `DMatrix` format.\n",
    "Use the `xgboost.cv` function to run cross-validation on the dataset.\n",
    "Evaluate the model’s performance using the cross-validation results.\n"
   ],
   "id": "6d9f7b9d3e32e2b4"
  },
  {
   "metadata": {},
   "cell_type": "code",
   "outputs": [],
   "execution_count": null,
   "source": "",
   "id": "5d8692bacea4e1fc"
  }
 ],
 "metadata": {
  "kernelspec": {
   "display_name": "Python 3",
   "language": "python",
   "name": "python3"
  },
  "language_info": {
   "codemirror_mode": {
    "name": "ipython",
    "version": 2
   },
   "file_extension": ".py",
   "mimetype": "text/x-python",
   "name": "python",
   "nbconvert_exporter": "python",
   "pygments_lexer": "ipython2",
   "version": "2.7.6"
  }
 },
 "nbformat": 4,
 "nbformat_minor": 5
}
